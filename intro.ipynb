{
 "cells": [
  {
   "cell_type": "markdown",
   "metadata": {},
   "source": [
    "# Intro to Python\n",
    "\n",
    "This is an introduction to basic concepts and syntax for Python. Feel free to experiment with changing the code in the code blocks below to see how different input affects the output. To run a code block, select the block then either click the \"run\" button or press `Ctrl + Enter` on your keyboard. I recommend playing with the code in each section a bit before moving on."
   ]
  },
  {
   "cell_type": "markdown",
   "metadata": {},
   "source": [
    "## Math in Python\n",
    "\n",
    "Python, is, like every programming language, at a basic level, just a very fancy calculator. You can do math in Python about how you would expect:"
   ]
  },
  {
   "cell_type": "code",
   "execution_count": 1,
   "metadata": {},
   "outputs": [
    {
     "name": "stdout",
     "output_type": "stream",
     "text": [
      "3\n",
      "-1\n",
      "2\n",
      "0.5\n",
      "8\n"
     ]
    }
   ],
   "source": [
    "# note: text after a # symbol is a comment and will not be executed\n",
    "# use the print() function to see the value of a Python object. each print() will output a new line.\n",
    "\n",
    "# addition\n",
    "print(1 + 2)\n",
    "# subtraction\n",
    "print(1 - 2)\n",
    "# multiplication\n",
    "print(1 * 2)\n",
    "# division\n",
    "print(1 / 2)\n",
    "# exponents, use a double asterisk\n",
    "print(2 ** 3)"
   ]
  },
  {
   "cell_type": "markdown",
   "metadata": {},
   "source": [
    "Python will automatically use standard order of operation rules. Use parentheses to control the order of operations:"
   ]
  },
  {
   "cell_type": "code",
   "execution_count": 2,
   "metadata": {},
   "outputs": [
    {
     "name": "stdout",
     "output_type": "stream",
     "text": [
      "10\n",
      "14\n"
     ]
    }
   ],
   "source": [
    "# multiplication first\n",
    "print(2 * 3 + 4)\n",
    "# addition first\n",
    "print(2 * (3 + 4))"
   ]
  },
  {
   "cell_type": "markdown",
   "metadata": {},
   "source": [
    "There are a couple of special operations to be aware of:"
   ]
  },
  {
   "cell_type": "code",
   "execution_count": 3,
   "metadata": {},
   "outputs": [
    {
     "name": "stdout",
     "output_type": "stream",
     "text": [
      "3\n",
      "1\n"
     ]
    }
   ],
   "source": [
    "# integer division, use double forward slash, rounds down to the nearest integer\n",
    "print(13 // 4)\n",
    "# modulo, returns remainder from integer division\n",
    "print(13 % 4)"
   ]
  },
  {
   "cell_type": "markdown",
   "metadata": {},
   "source": [
    "## Variables and variable types\n",
    "\n",
    "To create a variable and assign a value to it, use `=`. You can then use that variable in later calculations. You can name variables anything you like as long as the name is all one word, contains just letters, numbers, or underscores, and doesn't start with a number. You should also be careful not to give a variable a name that Python uses for something else."
   ]
  },
  {
   "cell_type": "code",
   "execution_count": 4,
   "metadata": {},
   "outputs": [
    {
     "name": "stdout",
     "output_type": "stream",
     "text": [
      "3 6\n"
     ]
    }
   ],
   "source": [
    "# create a variable x and set it to 3\n",
    "x = 3\n",
    "# create a variable x_times_2 and set it to x * 2\n",
    "x_times_2 = x * 2\n",
    "# you can give more than one input to the print function; just separate the inputs with a comma\n",
    "# the code below will print x then y on the same line\n",
    "print(x, x_times_2)"
   ]
  },
  {
   "cell_type": "code",
   "execution_count": 5,
   "metadata": {},
   "outputs": [
    {
     "name": "stdout",
     "output_type": "stream",
     "text": [
      "14\n"
     ]
    }
   ],
   "source": [
    "# you can update the value for a variable you've already created\n",
    "x = 4  # change x to be 4\n",
    "x = x + 5  # add 5 to x\n",
    "x += 5  # this does the same thing as the previous line; it's just a more compact form\n",
    "print(x)"
   ]
  },
  {
   "cell_type": "markdown",
   "metadata": {},
   "source": [
    "There are different data types that a variable can have. So far we've seen variables that have type `int` or `float`. An `int` variable is an integer, and a `float` can have decimal places. Python will sometimes automatically convert a variable to a different type if the operation you're doing requires that. You can check the type of a variable by plugging it into the `type()` function."
   ]
  },
  {
   "cell_type": "code",
   "execution_count": 6,
   "metadata": {},
   "outputs": [
    {
     "name": "stdout",
     "output_type": "stream",
     "text": [
      "<class 'int'>\n",
      "<class 'float'>\n"
     ]
    }
   ],
   "source": [
    "# example of an int\n",
    "print(type(2))\n",
    "# example of a float\n",
    "print(type(2.0))"
   ]
  },
  {
   "cell_type": "code",
   "execution_count": 7,
   "metadata": {},
   "outputs": [
    {
     "name": "stdout",
     "output_type": "stream",
     "text": [
      "<class 'int'>\n",
      "<class 'float'>\n"
     ]
    }
   ],
   "source": [
    "x = 2\n",
    "print(type(x))\n",
    "y = x / 4\n",
    "# normal division will change an int to a float\n",
    "print(type(y))"
   ]
  },
  {
   "cell_type": "code",
   "execution_count": 8,
   "metadata": {},
   "outputs": [
    {
     "name": "stdout",
     "output_type": "stream",
     "text": [
      "2\n",
      "2.0\n"
     ]
    }
   ],
   "source": [
    "# force a float to an int; will round down if necessary\n",
    "print(int(2.2))\n",
    "# force an int to a float\n",
    "print(float(2))"
   ]
  },
  {
   "cell_type": "markdown",
   "metadata": {},
   "source": [
    "Another important variable type is the `str` (string) type. A `str` is the type used to store text in Python -- it's called a string because it's a string of characters. To create a string, use quotations (either double `\"` or single `'` quotes will work)."
   ]
  },
  {
   "cell_type": "code",
   "execution_count": 9,
   "metadata": {},
   "outputs": [
    {
     "name": "stdout",
     "output_type": "stream",
     "text": [
      "<class 'str'> Python is great!\n"
     ]
    }
   ],
   "source": [
    "# create a string called message\n",
    "message = 'Python is great!'\n",
    "print(type(message), message)"
   ]
  },
  {
   "cell_type": "markdown",
   "metadata": {},
   "source": [
    "Using the `+` operator with two strings will concatenate them. Otherwise, you can't do math with strings."
   ]
  },
  {
   "cell_type": "code",
   "execution_count": 10,
   "metadata": {},
   "outputs": [
    {
     "name": "stdout",
     "output_type": "stream",
     "text": [
      "Python is great!blahblahblah\n"
     ]
    }
   ],
   "source": [
    "print(message + 'blahblahblah')"
   ]
  },
  {
   "cell_type": "markdown",
   "metadata": {},
   "source": [
    "If you want to store a list of variables, you can use the (aptly named) `list` type:"
   ]
  },
  {
   "cell_type": "code",
   "execution_count": 11,
   "metadata": {},
   "outputs": [],
   "source": [
    "# use [] to make a list. values are separated by commas\n",
    "my_numbers = [1, 2, 3]"
   ]
  },
  {
   "cell_type": "markdown",
   "metadata": {},
   "source": [
    "To add something to the end of a list, use the list's `.append()` function. To access a value from a list, tack `[i]` to the end of the list's name, where `i` is the index you want to access -- note that list indices start at 0, not 1!"
   ]
  },
  {
   "cell_type": "code",
   "execution_count": 12,
   "metadata": {},
   "outputs": [
    {
     "name": "stdout",
     "output_type": "stream",
     "text": [
      "[1, 2, 3, 4]\n"
     ]
    }
   ],
   "source": [
    "# append 4 to the end of the list\n",
    "my_numbers.append(4)\n",
    "print(my_numbers)"
   ]
  },
  {
   "cell_type": "code",
   "execution_count": 13,
   "metadata": {},
   "outputs": [
    {
     "name": "stdout",
     "output_type": "stream",
     "text": [
      "1\n",
      "4\n",
      "4\n"
     ]
    }
   ],
   "source": [
    "# get the first number\n",
    "print(my_numbers[0])\n",
    "# get the last number\n",
    "print(my_numbers[3])\n",
    "# you can also use the index -1 to get the last number\n",
    "print(my_numbers[-1])"
   ]
  },
  {
   "cell_type": "markdown",
   "metadata": {},
   "source": [
    "To get the length of a list, use the `len()` function. You can also use the `len()` function on other variable types like `str`s."
   ]
  },
  {
   "cell_type": "code",
   "execution_count": 14,
   "metadata": {},
   "outputs": [
    {
     "name": "stdout",
     "output_type": "stream",
     "text": [
      "4\n",
      "16\n"
     ]
    }
   ],
   "source": [
    "print(len(my_numbers))\n",
    "# len of a str will be the number of characters in the string\n",
    "print(len(message))"
   ]
  },
  {
   "cell_type": "markdown",
   "metadata": {},
   "source": [
    "The `dict` (dictionary) type provides a handy way to store values and then access them with keywords (instead of with indices like with the `list` type)."
   ]
  },
  {
   "cell_type": "code",
   "execution_count": 15,
   "metadata": {},
   "outputs": [
    {
     "name": "stdout",
     "output_type": "stream",
     "text": [
      "3\n",
      "7\n"
     ]
    }
   ],
   "source": [
    "# make a dict using {}\n",
    "ages = {\n",
    "    # use the format \"key: value\"\n",
    "    'Alice': 3,\n",
    "    # separate different entries in the dict with commas\n",
    "    'Bob': 4,\n",
    "    'Charlie': 7\n",
    "}\n",
    "\n",
    "# access the dict entry for Alice\n",
    "print(ages['Alice'])\n",
    "# access the entry for Charlie\n",
    "print(ages['Charlie'])"
   ]
  },
  {
   "cell_type": "code",
   "execution_count": 16,
   "metadata": {},
   "outputs": [
    {
     "name": "stdout",
     "output_type": "stream",
     "text": [
      "{'Alice': 3, 'Bob': 4, 'Charlie': 7, 'Denise': 5}\n",
      "dict_keys(['Alice', 'Bob', 'Charlie', 'Denise'])\n",
      "dict_values([3, 4, 7, 5])\n"
     ]
    }
   ],
   "source": [
    "# you can add a new entry to the dict\n",
    "ages['Denise'] = 5\n",
    "\n",
    "# see the entire dict\n",
    "print(ages)\n",
    "\n",
    "# use the .keys() function to see all the keys\n",
    "print(ages.keys())\n",
    "# use the .values() function to see all the values\n",
    "print(ages.values())"
   ]
  },
  {
   "cell_type": "markdown",
   "metadata": {},
   "source": [
    "## Boolean logic\n",
    "\n",
    "A `bool` (Boolean) is a variable type that only takes two possible values: `True` and `False`:"
   ]
  },
  {
   "cell_type": "code",
   "execution_count": 17,
   "metadata": {},
   "outputs": [
    {
     "name": "stdout",
     "output_type": "stream",
     "text": [
      "<class 'bool'> <class 'bool'>\n"
     ]
    }
   ],
   "source": [
    "print(type(True), type(False))"
   ]
  },
  {
   "cell_type": "markdown",
   "metadata": {},
   "source": [
    "You can get `bool`s from various logical checks, for example checking if one variable is equal to another or if one is greater than another:"
   ]
  },
  {
   "cell_type": "code",
   "execution_count": 18,
   "metadata": {},
   "outputs": [
    {
     "name": "stdout",
     "output_type": "stream",
     "text": [
      "True\n",
      "False\n"
     ]
    }
   ],
   "source": [
    "# use == (double equals) to check equality\n",
    "# a common mistake is to use just = (single equals) for this\n",
    "# only use = to assign a value to a variable\n",
    "print(2 == 1 + 1)\n",
    "print(2 == 1 + 2)"
   ]
  },
  {
   "cell_type": "code",
   "execution_count": 19,
   "metadata": {},
   "outputs": [
    {
     "name": "stdout",
     "output_type": "stream",
     "text": [
      "False\n",
      "True\n"
     ]
    }
   ],
   "source": [
    "# use != to check if two values are not equal\n",
    "print(2 != 1 + 1)\n",
    "print(2 != 1 + 2)"
   ]
  },
  {
   "cell_type": "code",
   "execution_count": 20,
   "metadata": {},
   "outputs": [
    {
     "name": "stdout",
     "output_type": "stream",
     "text": [
      "True\n",
      "False\n",
      "True\n",
      "False\n"
     ]
    }
   ],
   "source": [
    "# use > or < to check if one value is greater/less\n",
    "print(3 > 2)\n",
    "print(3 < 2)\n",
    "\n",
    "# use >= or <= for greater than or equal to / less than or equal to\n",
    "print(3 >= 3)\n",
    "print(3 <= 2)"
   ]
  },
  {
   "cell_type": "markdown",
   "metadata": {},
   "source": [
    "You can use `not` to negate a statement (switch `True` to `False` and vice versa).\n",
    "You can use `and`/`or` to combine two statements: `x and y` will be true only if both `x` and `y` are `True`, and `x or y` will be `True` if at least one of `x` and `y` is true."
   ]
  },
  {
   "cell_type": "code",
   "execution_count": 21,
   "metadata": {},
   "outputs": [
    {
     "name": "stdout",
     "output_type": "stream",
     "text": [
      "False\n",
      "True\n"
     ]
    }
   ],
   "source": [
    "print(not True)\n",
    "print(not 1 == 2)"
   ]
  },
  {
   "cell_type": "code",
   "execution_count": 22,
   "metadata": {},
   "outputs": [
    {
     "name": "stdout",
     "output_type": "stream",
     "text": [
      "False\n",
      "True\n",
      "True\n"
     ]
    }
   ],
   "source": [
    "print(True and False)\n",
    "print(True or False)\n",
    "\n",
    "# check if 1 between 0 and 2\n",
    "print(1 > 0 and  1 < 2)"
   ]
  },
  {
   "cell_type": "markdown",
   "metadata": {},
   "source": [
    "## Loops\n",
    "\n",
    "If you want to repeat something more than once or step through a list (or some other iterable object), use a `for` loop."
   ]
  },
  {
   "cell_type": "code",
   "execution_count": 23,
   "metadata": {},
   "outputs": [
    {
     "name": "stdout",
     "output_type": "stream",
     "text": [
      "0\n",
      "1\n",
      "2\n",
      "3\n",
      "4\n"
     ]
    }
   ],
   "source": [
    "for i in [0,1,2,3,4]:\n",
    "    # this code will be repeated for each i in [0,1,2,3,4]\n",
    "    print(i)"
   ]
  },
  {
   "cell_type": "code",
   "execution_count": 24,
   "metadata": {},
   "outputs": [
    {
     "name": "stdout",
     "output_type": "stream",
     "text": [
      "0\n",
      "1\n",
      "2\n",
      "3\n",
      "4\n"
     ]
    }
   ],
   "source": [
    "# instead of looping through a list, it's common to use the range() function\n",
    "for i in range(5):\n",
    "    # range(5) generates 5 successive integers, starting at 0\n",
    "    print(i)"
   ]
  },
  {
   "cell_type": "code",
   "execution_count": 25,
   "metadata": {},
   "outputs": [
    {
     "name": "stdout",
     "output_type": "stream",
     "text": [
      "a\n",
      "q\n",
      "x\n",
      "b\n",
      "a\n",
      "q\n",
      "x\n",
      "b\n"
     ]
    }
   ],
   "source": [
    "# you can loop through indices of a list...\n",
    "letters = ['a', 'q', 'x', 'b']\n",
    "for i in range(len(letters)):\n",
    "    print(letters[i])\n",
    "\n",
    "# ...but that's equivalent to just looping through the list directly.\n",
    "for letter in letters:\n",
    "    print(letter)\n",
    "\n",
    "# (notice that we don't need to use \"i\" as the name of the loop variable; above we used \"letter\")"
   ]
  },
  {
   "cell_type": "markdown",
   "metadata": {},
   "source": [
    "Notice in all the `for` loops above, the content of the loop was indented by a `TAB` space. This helps Python (and anyone looking at your code) tell what belongs inside the loop and what doesn't. The code will not run properly (or at all) if your indentation is not right. Indentation is also required for if/else statements and function definitions (explained below)."
   ]
  },
  {
   "cell_type": "markdown",
   "metadata": {},
   "source": [
    "## If / else\n",
    "\n",
    "Often we only want to run some code if a certain condition is met. To do this, we use an if statement."
   ]
  },
  {
   "cell_type": "code",
   "execution_count": 26,
   "metadata": {},
   "outputs": [
    {
     "name": "stdout",
     "output_type": "stream",
     "text": [
      "x is positive\n"
     ]
    }
   ],
   "source": [
    "x = 1\n",
    "if x > 0:  # will only run if x > 0 is True\n",
    "    print('x is positive')\n",
    "if x <= 0:  # will only run if x <= 0 is True\n",
    "    print('x is not positive')"
   ]
  },
  {
   "cell_type": "markdown",
   "metadata": {},
   "source": [
    "We can use an `else` statement directly after an `if` statement to run something if the condition for the `if` statement is `False':"
   ]
  },
  {
   "cell_type": "code",
   "execution_count": 27,
   "metadata": {},
   "outputs": [
    {
     "name": "stdout",
     "output_type": "stream",
     "text": [
      "x is not positive\n"
     ]
    }
   ],
   "source": [
    "x = -1\n",
    "if x > 0:  # will only run if x > 0 is True\n",
    "    print('x is positive')\n",
    "else:  # will only run if x > 0 is False\n",
    "    print('x is not positive')"
   ]
  },
  {
   "cell_type": "markdown",
   "metadata": {},
   "source": [
    "We can check for more than one condition using the `elif` statement."
   ]
  },
  {
   "cell_type": "code",
   "execution_count": 28,
   "metadata": {},
   "outputs": [
    {
     "name": "stdout",
     "output_type": "stream",
     "text": [
      "x is between 0 and 10\n"
     ]
    }
   ],
   "source": [
    "x = 1\n",
    "if x > 10:\n",
    "    print('x is greater than 10')\n",
    "elif x <= 10 and x > 0:  # check this if x > 10 is False\n",
    "    print('x is between 0 and 10')\n",
    "elif x <= 0 and x > -10:  # check this if both of the above conditions are False\n",
    "    print('x is between -10 and 0')\n",
    "else:  # run the below if none of the above are True\n",
    "    print('x is less than -10')"
   ]
  },
  {
   "cell_type": "markdown",
   "metadata": {},
   "source": [
    "## Functions\n",
    "\n",
    "At this point, we've already encountered a few functions, e.g., `print()`, `type()`, `len()` and so on. Every function takes some input and produces some output (possibly doing some other work in between). A function can take more than one input and produce more than one output.\n",
    "\n",
    "You can define your own functions like below:"
   ]
  },
  {
   "cell_type": "code",
   "execution_count": 29,
   "metadata": {},
   "outputs": [
    {
     "name": "stdout",
     "output_type": "stream",
     "text": [
      "7\n"
     ]
    }
   ],
   "source": [
    "# start the function declaration using 'def' (for 'define')\n",
    "# the structure is \"def function_name(inputs)\"\n",
    "def my_function(input1, input2):\n",
    "    # use return to output values\n",
    "    return input1 + input2  # output the sum of the inputs\n",
    "\n",
    "# run my_function with 3 and 4 as inputs\n",
    "print(my_function(3, 4))"
   ]
  },
  {
   "cell_type": "code",
   "execution_count": 30,
   "metadata": {},
   "outputs": [
    {
     "name": "stdout",
     "output_type": "stream",
     "text": [
      "4\n",
      "4\n"
     ]
    }
   ],
   "source": [
    "def which_is_bigger(x, y):\n",
    "    # you can include if/else statements in a function\n",
    "    if x > y:\n",
    "        return x\n",
    "    else:\n",
    "        return y\n",
    "\n",
    "# is 3 bigger than 4? let's find out:\n",
    "print(which_is_bigger(3, 4))\n",
    "\n",
    "# or just use the built-in max() function\n",
    "print(max(3, 4))"
   ]
  },
  {
   "cell_type": "code",
   "execution_count": 31,
   "metadata": {},
   "outputs": [
    {
     "name": "stdout",
     "output_type": "stream",
     "text": [
      "9\n"
     ]
    }
   ],
   "source": [
    "def square_a_number(number):\n",
    "    return number**2\n",
    "\n",
    "print(square_a_number(3))"
   ]
  },
  {
   "cell_type": "code",
   "execution_count": 32,
   "metadata": {},
   "outputs": [
    {
     "name": "stdout",
     "output_type": "stream",
     "text": [
      "9\n"
     ]
    }
   ],
   "source": [
    "# You can combine functions together in a single statement.\n",
    "# We've already done a bit of this above.\n",
    "\n",
    "# check if 3 is bigger than 3**2\n",
    "print(which_is_bigger(3, square_a_number(3)))"
   ]
  },
  {
   "cell_type": "code",
   "execution_count": 33,
   "metadata": {},
   "outputs": [
    {
     "name": "stdout",
     "output_type": "stream",
     "text": [
      "x**2 + x**3 is 12!\n",
      "x**2 + x**3 is not 12 :(\n"
     ]
    }
   ],
   "source": [
    "def complicated_function(x):\n",
    "    # you can create new variables inside a function\n",
    "    # but these variables will not be available outside the context of the function\n",
    "    x_squared = x**2\n",
    "    x_cubed = x**3\n",
    "    if x_squared + x_cubed == 12:\n",
    "        return 'x**2 + x**3 is 12!'\n",
    "    else:\n",
    "        return 'x**2 + x**3 is not 12 :('\n",
    "\n",
    "print(complicated_function(2))\n",
    "print(complicated_function(3))"
   ]
  },
  {
   "cell_type": "code",
   "execution_count": 34,
   "metadata": {},
   "outputs": [
    {
     "name": "stdout",
     "output_type": "stream",
     "text": [
      "sp***** are scary\n",
      "Sending messages about spiders is not allowed.\n"
     ]
    }
   ],
   "source": [
    "# we can include things like print() inside a function\n",
    "def print_message(message):\n",
    "    # check if the string 'spiders' is in the message\n",
    "    if 'spiders' not in message:\n",
    "        print(message)\n",
    "    else:\n",
    "        print('Sending messages about spiders is not allowed.')\n",
    "    # if the function doesn't include a return statement, it will just return None\n",
    "\n",
    "print_message('sp***** are scary')\n",
    "print_message('spiders have eight legs')"
   ]
  },
  {
   "cell_type": "code",
   "execution_count": 35,
   "metadata": {},
   "outputs": [
    {
     "name": "stdout",
     "output_type": "stream",
     "text": [
      "doing something...\n"
     ]
    },
    {
     "data": {
      "text/plain": [
       "'done'"
      ]
     },
     "execution_count": 35,
     "metadata": {},
     "output_type": "execute_result"
    }
   ],
   "source": [
    "# functions don't necessarily need any input values\n",
    "def do_something():\n",
    "    print('doing something...')\n",
    "    return 'done'\n",
    "\n",
    "do_something()"
   ]
  },
  {
   "cell_type": "markdown",
   "metadata": {},
   "source": [
    "## Classes\n",
    "\n",
    "Every object in Python (variables, lists, etc.) belongs to a given class. The class of the object is what the `type()` function returns. The class of an object determines what its attributes and behaviors are.\n",
    "\n",
    "Classes can have functions associated with them. For example, the `list` class has the `append()` function that `list` objects can use, as we saw above. A few other examples are shown below:"
   ]
  },
  {
   "cell_type": "code",
   "execution_count": 36,
   "metadata": {},
   "outputs": [
    {
     "name": "stdout",
     "output_type": "stream",
     "text": [
      "hello\n",
      "HELLO\n"
     ]
    }
   ],
   "source": [
    "# create an object of type str\n",
    "string = 'Hello'\n",
    "# use the lower() function from the str class to make everything lowercase\n",
    "print(string.lower())\n",
    "# use upper() to make the string uppercase\n",
    "print(string.upper())"
   ]
  },
  {
   "cell_type": "code",
   "execution_count": 37,
   "metadata": {},
   "outputs": [
    {
     "name": "stdout",
     "output_type": "stream",
     "text": [
      "5\n"
     ]
    }
   ],
   "source": [
    "# create an object of type int\n",
    "integer = 2\n",
    "# use the __add__ function to add to the integer\n",
    "# this is actually what happens behind the scenes when you use the + operator\n",
    "print(integer.__add__(3))"
   ]
  },
  {
   "cell_type": "markdown",
   "metadata": {},
   "source": [
    "Just like you can make your own functions, you can make your own classes in Python. Below we make a class that represents a person."
   ]
  },
  {
   "cell_type": "code",
   "execution_count": 38,
   "metadata": {},
   "outputs": [
    {
     "name": "stdout",
     "output_type": "stream",
     "text": [
      "Hello!\n",
      "My name is Bob\n",
      "I am 30 years old.\n",
      "My name is Bobberley McBobbers\n",
      "I am 30 years old.\n"
     ]
    }
   ],
   "source": [
    "class Person:\n",
    "    # class definitions almost always start with an __init__ function\n",
    "    # this function is run whenever you create a new object of this class\n",
    "    # the inputs after 'self' are values used to initialize the object\n",
    "    def __init__(self, name, age):\n",
    "        # setting self.name saves 'name' as an attribute of the class\n",
    "        # 'self' is a placeholder for whatever name you give an object of this class\n",
    "        self.name = name\n",
    "        self.age = age\n",
    "    \n",
    "    # give the Person a few functions.\n",
    "    # functions inside a class should almost always take 'self' as the first input\n",
    "    def say_hello(self):\n",
    "        print('Hello!')\n",
    "    \n",
    "    def introduce(self):\n",
    "        print('My name is', self.name)\n",
    "        print('I am', self.age, 'years old.')\n",
    "    \n",
    "    def change_name(self, new_name):\n",
    "        self.name = new_name\n",
    "\n",
    "# create a new person\n",
    "bob = Person('Bob', 30)\n",
    "# try out the person's functions\n",
    "bob.say_hello()\n",
    "bob.introduce()\n",
    "bob.change_name('Bobberley McBobbers')\n",
    "bob.introduce()"
   ]
  },
  {
   "cell_type": "markdown",
   "metadata": {},
   "source": [
    "## Practice!\n",
    "\n",
    "Try fixing the code below so it runs without errors."
   ]
  },
  {
   "cell_type": "code",
   "execution_count": 39,
   "metadata": {},
   "outputs": [
    {
     "ename": "IndentationError",
     "evalue": "expected an indented block (<ipython-input-39-044ac06e3e26>, line 6)",
     "output_type": "error",
     "traceback": [
      "\u001b[0;36m  File \u001b[0;32m\"<ipython-input-39-044ac06e3e26>\"\u001b[0;36m, line \u001b[0;32m6\u001b[0m\n\u001b[0;31m    return total\u001b[0m\n\u001b[0m         ^\u001b[0m\n\u001b[0;31mIndentationError\u001b[0m\u001b[0;31m:\u001b[0m expected an indented block\n"
     ]
    }
   ],
   "source": [
    "# this function should return the sum of a list of numbers\n",
    "def add_all(list_of_nums):\n",
    "    total = 0\n",
    "    for num in list_of_nums:\n",
    "        # insert a line here to add each num to the total\n",
    "    return total\n",
    "\n",
    "# don't edit the following lines\n",
    "example_list = [1, 2, 3]\n",
    "assert add_all(example_list) == 6, 'The sum should be 6'"
   ]
  },
  {
   "cell_type": "code",
   "execution_count": 40,
   "metadata": {},
   "outputs": [
    {
     "ename": "AssertionError",
     "evalue": "x should be a float equal to 15.0",
     "output_type": "error",
     "traceback": [
      "\u001b[0;31m---------------------------------------------------------------------------\u001b[0m",
      "\u001b[0;31mAssertionError\u001b[0m                            Traceback (most recent call last)",
      "\u001b[0;32m<ipython-input-40-376e161c1e75>\u001b[0m in \u001b[0;36m<module>\u001b[0;34m\u001b[0m\n\u001b[1;32m      3\u001b[0m \u001b[0;34m\u001b[0m\u001b[0m\n\u001b[1;32m      4\u001b[0m \u001b[0;31m# don't edit the following line\u001b[0m\u001b[0;34m\u001b[0m\u001b[0;34m\u001b[0m\u001b[0;34m\u001b[0m\u001b[0m\n\u001b[0;32m----> 5\u001b[0;31m \u001b[0;32massert\u001b[0m \u001b[0mx\u001b[0m \u001b[0;34m==\u001b[0m \u001b[0;36m15\u001b[0m \u001b[0;32mand\u001b[0m \u001b[0mtype\u001b[0m\u001b[0;34m(\u001b[0m\u001b[0mx\u001b[0m\u001b[0;34m)\u001b[0m \u001b[0;32mis\u001b[0m \u001b[0mfloat\u001b[0m\u001b[0;34m,\u001b[0m \u001b[0;34m'x should be a float equal to 15.0'\u001b[0m\u001b[0;34m\u001b[0m\u001b[0;34m\u001b[0m\u001b[0m\n\u001b[0m",
      "\u001b[0;31mAssertionError\u001b[0m: x should be a float equal to 15.0"
     ]
    }
   ],
   "source": [
    "x = 15\n",
    "# add a line here to change x to a float type\n",
    "\n",
    "# don't edit the following line\n",
    "assert x == 15 and type(x) is float, 'x should be a float equal to 15.0'"
   ]
  },
  {
   "cell_type": "code",
   "execution_count": 41,
   "metadata": {},
   "outputs": [
    {
     "ename": "NameError",
     "evalue": "name 'say_hello' is not defined",
     "output_type": "error",
     "traceback": [
      "\u001b[0;31m---------------------------------------------------------------------------\u001b[0m",
      "\u001b[0;31mNameError\u001b[0m                                 Traceback (most recent call last)",
      "\u001b[0;32m<ipython-input-41-f91a09da9178>\u001b[0m in \u001b[0;36m<module>\u001b[0;34m\u001b[0m\n\u001b[1;32m      2\u001b[0m \u001b[0;34m\u001b[0m\u001b[0m\n\u001b[1;32m      3\u001b[0m \u001b[0;31m# don't edit the following line\u001b[0m\u001b[0;34m\u001b[0m\u001b[0;34m\u001b[0m\u001b[0;34m\u001b[0m\u001b[0m\n\u001b[0;32m----> 4\u001b[0;31m \u001b[0;32massert\u001b[0m \u001b[0msay_hello\u001b[0m\u001b[0;34m(\u001b[0m\u001b[0;34m)\u001b[0m \u001b[0;34m==\u001b[0m \u001b[0;34m'hello'\u001b[0m\u001b[0;34m,\u001b[0m \u001b[0;34m'say_hello() should return \"hello\"'\u001b[0m\u001b[0;34m\u001b[0m\u001b[0;34m\u001b[0m\u001b[0m\n\u001b[0m",
      "\u001b[0;31mNameError\u001b[0m: name 'say_hello' is not defined"
     ]
    }
   ],
   "source": [
    "# define a function here called say_hello that takes no inputs and returns 'hello'\n",
    "\n",
    "# don't edit the following line\n",
    "assert say_hello() == 'hello', 'say_hello() should return \"hello\"'"
   ]
  },
  {
   "cell_type": "code",
   "execution_count": 42,
   "metadata": {},
   "outputs": [
    {
     "ename": "NameError",
     "evalue": "name 'get_last' is not defined",
     "output_type": "error",
     "traceback": [
      "\u001b[0;31m---------------------------------------------------------------------------\u001b[0m",
      "\u001b[0;31mNameError\u001b[0m                                 Traceback (most recent call last)",
      "\u001b[0;32m<ipython-input-42-aaa091c2c1fb>\u001b[0m in \u001b[0;36m<module>\u001b[0;34m\u001b[0m\n\u001b[1;32m      4\u001b[0m \u001b[0;34m\u001b[0m\u001b[0m\n\u001b[1;32m      5\u001b[0m \u001b[0;31m# don't edit the following line\u001b[0m\u001b[0;34m\u001b[0m\u001b[0;34m\u001b[0m\u001b[0;34m\u001b[0m\u001b[0m\n\u001b[0;32m----> 6\u001b[0;31m \u001b[0;32massert\u001b[0m \u001b[0mget_last\u001b[0m\u001b[0;34m(\u001b[0m\u001b[0;34m[\u001b[0m\u001b[0;36m1\u001b[0m\u001b[0;34m,\u001b[0m\u001b[0;36m2\u001b[0m\u001b[0;34m,\u001b[0m\u001b[0;36m3\u001b[0m\u001b[0;34m]\u001b[0m\u001b[0;34m)\u001b[0m \u001b[0;34m==\u001b[0m \u001b[0;36m3\u001b[0m\u001b[0;34m,\u001b[0m \u001b[0;34m'get_last([1,2,3]) should return 3'\u001b[0m\u001b[0;34m\u001b[0m\u001b[0;34m\u001b[0m\u001b[0m\n\u001b[0m",
      "\u001b[0;31mNameError\u001b[0m: name 'get_last' is not defined"
     ]
    }
   ],
   "source": [
    "# define a function here called get_last that takes a single input (a list)\n",
    "    # and returns the last element of the list\n",
    "# Hint: remember that example_list[-1] will give you the last element of a list\n",
    "\n",
    "# don't edit the following line\n",
    "assert get_last([1,2,3]) == 3, 'get_last([1,2,3]) should return 3'"
   ]
  },
  {
   "cell_type": "code",
   "execution_count": 43,
   "metadata": {},
   "outputs": [
    {
     "ename": "SyntaxError",
     "evalue": "invalid syntax (<ipython-input-43-8b429d9f1d26>, line 7)",
     "output_type": "error",
     "traceback": [
      "\u001b[0;36m  File \u001b[0;32m\"<ipython-input-43-8b429d9f1d26>\"\u001b[0;36m, line \u001b[0;32m7\u001b[0m\n\u001b[0;31m    'snake': 'no',\u001b[0m\n\u001b[0m           ^\u001b[0m\n\u001b[0;31mSyntaxError\u001b[0m\u001b[0;31m:\u001b[0m invalid syntax\n"
     ]
    }
   ],
   "source": [
    "# find and fix the error in the code below\n",
    "is_it_cute = {\n",
    "    'kitten': 'yes'\n",
    "    'scorpion': 'no',\n",
    "    'bunny': 'yes',\n",
    "    'snake': 'no',\n",
    "    'smol doggo': 'yes',\n",
    "    'mushroom': 'yes'\n",
    "}\n",
    "\n",
    "print(is_it_cute['scorpion'])"
   ]
  }
 ],
 "metadata": {
  "kernelspec": {
   "display_name": "Python 3",
   "language": "python",
   "name": "python3"
  },
  "language_info": {
   "codemirror_mode": {
    "name": "ipython",
    "version": 3
   },
   "file_extension": ".py",
   "mimetype": "text/x-python",
   "name": "python",
   "nbconvert_exporter": "python",
   "pygments_lexer": "ipython3",
   "version": "3.7.4"
  }
 },
 "nbformat": 4,
 "nbformat_minor": 2
}
